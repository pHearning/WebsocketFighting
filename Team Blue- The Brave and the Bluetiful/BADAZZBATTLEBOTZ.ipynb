{
 "cells": [
  {
   "cell_type": "code",
   "execution_count": 2,
   "metadata": {
    "collapsed": true
   },
   "outputs": [],
   "source": [
    "# Import libraries\n",
    "import websocket\n",
    "import thread\n",
    "import time\n",
    "import json\n",
    "import random\n",
    "import numpy as np "
   ]
  },
  {
   "cell_type": "code",
   "execution_count": 8,
   "metadata": {
    "collapsed": false
   },
   "outputs": [
    {
     "name": "stderr",
     "output_type": "stream",
     "text": [
      "--- request header ---\n",
      "GET /ws HTTP/1.1\n",
      "Upgrade: websocket\n",
      "Connection: Upgrade\n",
      "Host: 10.216.85.113:8888\n",
      "Origin: http://10.216.85.113:8888\n",
      "Sec-WebSocket-Key: rCBi65KSRMKHVPWEMnhMzw==\n",
      "Sec-WebSocket-Version: 13\n",
      "\n",
      "\n",
      "-----------------------\n",
      "--- response header ---\n",
      "HTTP/1.1 101 Switching Protocols\n",
      "Upgrade: websocket\n",
      "Connection: Upgrade\n",
      "Sec-WebSocket-Accept: WL+MPe3vfNZ+Qe7yVks5Y2O7MIU=\n",
      "-----------------------\n"
     ]
    },
    {
     "name": "stdout",
     "output_type": "stream",
     "text": [
      "{\"turn\": \"blue\", \"message\": \"A new player has join the game\", \"move\": \"punch\", \"blue_hp\": \"20\", \"red_hp\": \"20\"}\n"
     ]
    },
    {
     "name": "stderr",
     "output_type": "stream",
     "text": [
      "Unhandled exception in thread started by <function run at 0x00000000045C0BA8>\n"
     ]
    },
    {
     "ename": "AttributeError",
     "evalue": "'NoneType' object has no attribute 'send'",
     "output_type": "error",
     "traceback": [
      "\u001b[0;31m---------------------------------------------------------------------------\u001b[0m",
      "\u001b[0;31mAttributeError\u001b[0m                            Traceback (most recent call last)",
      "\u001b[0;32m<ipython-input-6-fc2e067b334c>\u001b[0m in \u001b[0;36mrun\u001b[0;34m(*args)\u001b[0m\n\u001b[1;32m     61\u001b[0m                                                  \u001b[0mred_hp\u001b[0m\u001b[1;33m=\u001b[0m\u001b[0mint\u001b[0m\u001b[1;33m(\u001b[0m\u001b[0mturn_holder\u001b[0m\u001b[1;33m.\u001b[0m\u001b[0mred_hp\u001b[0m\u001b[1;33m)\u001b[0m\u001b[1;33m\u001b[0m\u001b[0m\n\u001b[1;32m     62\u001b[0m                                                 )\n\u001b[0;32m---> 63\u001b[0;31m                 \u001b[0mws\u001b[0m\u001b[1;33m.\u001b[0m\u001b[0msend\u001b[0m\u001b[1;33m(\u001b[0m\u001b[0mjson\u001b[0m\u001b[1;33m.\u001b[0m\u001b[0mdumps\u001b[0m\u001b[1;33m(\u001b[0m\u001b[1;33m{\u001b[0m\u001b[1;34m\"player\"\u001b[0m\u001b[1;33m:\u001b[0m\u001b[0mturn_holder\u001b[0m\u001b[1;33m.\u001b[0m\u001b[0mturn\u001b[0m\u001b[1;33m,\u001b[0m\u001b[1;34m\"move\"\u001b[0m\u001b[1;33m:\u001b[0m\u001b[0mmy_amazing_move\u001b[0m\u001b[1;33m}\u001b[0m\u001b[1;33m)\u001b[0m\u001b[1;33m)\u001b[0m \u001b[1;31m# Send the turn\u001b[0m\u001b[1;33m\u001b[0m\u001b[0m\n\u001b[0m\u001b[1;32m     64\u001b[0m                 \u001b[0mred_move_list\u001b[0m\u001b[1;33m.\u001b[0m\u001b[0mappend\u001b[0m\u001b[1;33m(\u001b[0m\u001b[0mturn_holder\u001b[0m\u001b[1;33m.\u001b[0m\u001b[0mmove\u001b[0m\u001b[1;33m)\u001b[0m\u001b[1;33m\u001b[0m\u001b[0m\n\u001b[1;32m     65\u001b[0m         \u001b[0mtime\u001b[0m\u001b[1;33m.\u001b[0m\u001b[0msleep\u001b[0m\u001b[1;33m(\u001b[0m\u001b[1;36m1\u001b[0m\u001b[1;33m)\u001b[0m\u001b[1;33m\u001b[0m\u001b[0m\n",
      "\u001b[0;32mC:\\Users\\C07556A\\AppData\\Local\\Continuum\\Anaconda2\\lib\\site-packages\\websocket\\_app.pyc\u001b[0m in \u001b[0;36msend\u001b[0;34m(self, data, opcode)\u001b[0m\n\u001b[1;32m     92\u001b[0m         \"\"\"\n\u001b[1;32m     93\u001b[0m \u001b[1;33m\u001b[0m\u001b[0m\n\u001b[0;32m---> 94\u001b[0;31m         \u001b[1;32mif\u001b[0m \u001b[0mself\u001b[0m\u001b[1;33m.\u001b[0m\u001b[0msock\u001b[0m\u001b[1;33m.\u001b[0m\u001b[0msend\u001b[0m\u001b[1;33m(\u001b[0m\u001b[0mdata\u001b[0m\u001b[1;33m,\u001b[0m \u001b[0mopcode\u001b[0m\u001b[1;33m)\u001b[0m \u001b[1;33m==\u001b[0m \u001b[1;36m0\u001b[0m\u001b[1;33m:\u001b[0m\u001b[1;33m\u001b[0m\u001b[0m\n\u001b[0m\u001b[1;32m     95\u001b[0m             \u001b[1;32mraise\u001b[0m \u001b[0mWebSocketConnectionClosedException\u001b[0m\u001b[1;33m(\u001b[0m\u001b[1;33m)\u001b[0m\u001b[1;33m\u001b[0m\u001b[0m\n\u001b[1;32m     96\u001b[0m \u001b[1;33m\u001b[0m\u001b[0m\n",
      "\u001b[0;31mAttributeError\u001b[0m: 'NoneType' object has no attribute 'send'"
     ]
    },
    {
     "name": "stderr",
     "output_type": "stream",
     "text": [
      "send: '\\x81\\xa3\\xebV\\x91\\x1f\\x90t\\xe1s\\x8a/\\xf4m\\xc9l\\xb1=\\x89:\\xe4z\\xc9z\\xb1=\\x869\\xe7z\\xc9l\\xb1=\\x9b#\\xff|\\x83t\\xec'\n"
     ]
    },
    {
     "name": "stdout",
     "output_type": "stream",
     "text": [
      "{\"turn\": \"red\", \"message\": \"blue hit red with punch for 16 damage.\", \"move\": \"punch\", \"blue_hp\": 100, \"red_hp\": 84}\n",
      "{\"turn\": \"red\", \"message\": \"A new player has join the game\", \"move\": \"punch\", \"blue_hp\": \"20\", \"red_hp\": \"20\"}\n",
      "{\"turn\": \"blue\", \"message\": \"red hit blue with kick for 0 damage.\", \"move\": \"kick\", \"blue_hp\": 100, \"red_hp\": 84}\n"
     ]
    },
    {
     "name": "stderr",
     "output_type": "stream",
     "text": [
      "send: '\\x81\\xa3\\xd3I\\x7f\\xdc\\xa8k\\x0f\\xb0\\xb20\\x1a\\xae\\xf1s_\\xfe\\xb1%\\n\\xb9\\xf1e_\\xfe\\xbe&\\t\\xb9\\xf1s_\\xfe\\xa3<\\x11\\xbf\\xbbk\\x02'\n"
     ]
    },
    {
     "name": "stdout",
     "output_type": "stream",
     "text": [
      "{\"turn\": \"red\", \"message\": \"blue hit red with punch for 14 damage.\", \"move\": \"punch\", \"blue_hp\": 100, \"red_hp\": 70}\n",
      "{\"turn\": \"blue\", \"message\": \"red hit blue with kick for 17 damage.\", \"move\": \"kick\", \"blue_hp\": 83, \"red_hp\": 70}\n"
     ]
    },
    {
     "name": "stderr",
     "output_type": "stream",
     "text": [
      "send: '\\x81\\xa3Y\\xd2\\x83\\xc9\"\\xf0\\xf3\\xa58\\xab\\xe6\\xbb{\\xe8\\xa3\\xeb;\\xbe\\xf6\\xac{\\xfe\\xa3\\xeb4\\xbd\\xf5\\xac{\\xe8\\xa3\\xeb)\\xa7\\xed\\xaa1\\xf0\\xfe'\n"
     ]
    },
    {
     "name": "stdout",
     "output_type": "stream",
     "text": [
      "{\"turn\": \"red\", \"message\": \"blue hit red with punch for 18 damage.\", \"move\": \"punch\", \"blue_hp\": 83, \"red_hp\": 52}\n",
      "{\"turn\": \"blue\", \"message\": \"red hit blue with kick for 15 damage.\", \"move\": \"kick\", \"blue_hp\": 68, \"red_hp\": 52}\n"
     ]
    },
    {
     "name": "stderr",
     "output_type": "stream",
     "text": [
      "send: '\\x81\\xa2\\x92\\xc8\\xc3\\xeb\\xe9\\xea\\xb3\\x87\\xf3\\xb1\\xa6\\x99\\xb0\\xf2\\xe3\\xc9\\xf0\\xa4\\xb6\\x8e\\xb0\\xe4\\xe3\\xc9\\xff\\xa7\\xb5\\x8e\\xb0\\xf2\\xe3\\xc9\\xf9\\xa1\\xa0\\x80\\xb0\\xb5'\n"
     ]
    },
    {
     "name": "stdout",
     "output_type": "stream",
     "text": [
      "{\"turn\": \"red\", \"message\": \"blue hit red with kick for 10 damage.\", \"move\": \"kick\", \"blue_hp\": 68, \"red_hp\": 42}\n"
     ]
    },
    {
     "name": "stderr",
     "output_type": "stream",
     "text": [
      "send: '\\x81\\xa2\\xe4\\xdeXw\\x9f\\xfc(\\x1b\\x85\\xa7=\\x05\\xc6\\xe4xU\\x86\\xb2-\\x12\\xc6\\xf2xU\\x89\\xb1.\\x12\\xc6\\xe4xU\\x8f\\xb7;\\x1c\\xc6\\xa3'\n"
     ]
    },
    {
     "name": "stdout",
     "output_type": "stream",
     "text": [
      "{\"turn\": \"blue\", \"message\": \"red hit blue with kick for 13 damage.\", \"move\": \"kick\", \"blue_hp\": 55, \"red_hp\": 42}\n",
      "{\"turn\": \"red\", \"message\": \"blue hit red with kick for 18 damage.\", \"move\": \"kick\", \"blue_hp\": 55, \"red_hp\": 24}\n",
      "{\"turn\": \"blue\", \"message\": \"red hit blue with kick for 15 damage.\", \"move\": \"kick\", \"blue_hp\": 40, \"red_hp\": 24}\n"
     ]
    },
    {
     "name": "stderr",
     "output_type": "stream",
     "text": [
      "send: '\\x81\\xa2\\xa2\\xa7h\\xa5\\xd9\\x85\\x18\\xc9\\xc3\\xde\\r\\xd7\\x80\\x9dH\\x87\\xc0\\xcb\\x1d\\xc0\\x80\\x8bH\\x87\\xcf\\xc8\\x1e\\xc0\\x80\\x9dH\\x87\\xc9\\xce\\x0b\\xce\\x80\\xda'\n"
     ]
    },
    {
     "name": "stdout",
     "output_type": "stream",
     "text": [
      "{\"turn\": \"red\", \"message\": \"blue hit red with kick for 20 damage.\", \"move\": \"kick\", \"blue_hp\": 40, \"red_hp\": 4}\n",
      "{\"turn\": \"blue\", \"message\": \"red hit blue with kick for 14 damage.\", \"move\": \"kick\", \"blue_hp\": 26, \"red_hp\": 4}\n"
     ]
    },
    {
     "name": "stderr",
     "output_type": "stream",
     "text": [
      "send: \"\\x81\\xa2\\xb9qD\\xab\\xc2S4\\xc7\\xd8\\x08!\\xd9\\x9bKd\\x89\\xdb\\x1d1\\xce\\x9b]d\\x89\\xd4\\x1e2\\xce\\x9bKd\\x89\\xd2\\x18'\\xc0\\x9b\\x0c\"\n",
      "send: '\\x81\\xa2\\x06p\\xadC}R\\xdd/g\\t\\xc81$J\\x8dad\\x1c\\xd8&$\\\\\\x8dak\\x1f\\xdb&$J\\x8dam\\x19\\xce($\\r'\n",
      "'move'\n",
      "  File \"C:\\Users\\C07556A\\AppData\\Local\\Continuum\\Anaconda2\\lib\\site-packages\\websocket\\_app.py\", line 186, in _callback\n",
      "    callback(self, *args)\n",
      "  File \"<ipython-input-8-88d2da4827d9>\", line 36, in on_message\n",
      "    turn_holder.op_move = new_message[\"move\"]\n",
      "send: '\\x88\\x82\\xcb\\xc2)\\xb0\\xc8*'\n",
      "send: '\\x88\\x82R%;vQ\\xcd'\n"
     ]
    },
    {
     "name": "stdout",
     "output_type": "stream",
     "text": [
      "{\"turn\": \"none\", \"message\": \"Red is dead Blue wins\"}\n",
      "### closed ###\n"
     ]
    }
   ],
   "source": [
    "# Use teds client\n",
    "class turn_holder():\n",
    "    message = {}\n",
    "    op_move = ''\n",
    "    blue_hp = ''\n",
    "    red_hp = ''\n",
    "    turn = ''\n",
    "    move = ''\n",
    " \n",
    "\n",
    "def hp_dif(v1, v2):\n",
    "    return int(v1) - int(v2)\n",
    "\n",
    "def move_selection(op_move, red_hp, blue_hp):\n",
    "    move = ''\n",
    "    if blue_hp < 20 or hp_dif(red_hp, blue_hp) > 15: \n",
    "        move = 'kick'\n",
    "    elif op_move == 'block':\n",
    "        move = 'punch'\n",
    "    else:\n",
    "        ri = random.random()\n",
    "        if ri <= 0.55:    \n",
    "            move = 'kick'\n",
    "        elif ri >=0.6:\n",
    "            move = 'punch'\n",
    "        else:\n",
    "            move = 'block'\n",
    "    return move\n",
    "            \n",
    "\n",
    "\n",
    "def on_message(ws, message):\n",
    "    print message\n",
    "    new_message = json.loads(message)\n",
    "    turn_holder.turn = new_message[\"turn\"]\n",
    "    turn_holder.op_move = new_message[\"move\"]\n",
    "    turn_holder.red_hp = new_message[\"red_hp\"]\n",
    "    turn_holder.blue_hp = new_message[\"blue_hp\"]\n",
    "    turn_holder.status= new_message\n",
    "\n",
    "# error occured - show error\n",
    "def on_error(ws, error):\n",
    "    print error\n",
    "    \n",
    "# close message\n",
    "def on_close(ws):\n",
    "    print \"### closed ###\"\n",
    "\n",
    "blue_move_list=[]\n",
    "red_move_list=[]\n",
    "    \n",
    "# open web socket\n",
    "def on_open(ws):\n",
    "    def run(*args):\n",
    "        while True:\n",
    "            time.sleep(3)\n",
    "            ## Set up some crazynes\n",
    "            if turn_holder.turn == 'blue':\n",
    "                my_amazing_move = move_selection(blue_hp=int(turn_holder.blue_hp),\n",
    "                                                 op_move=turn_holder.op_move,\n",
    "                                                 red_hp=int(turn_holder.red_hp)\n",
    "                                                )\n",
    "                ws.send(json.dumps({\"player\":turn_holder.turn,\"move\":my_amazing_move})) # Send the turn\n",
    "                red_move_list.append(turn_holder.move)\n",
    "        time.sleep(1)\n",
    "        ws.close() # close the thread\n",
    "        print \"thread terminating...\"\n",
    "    thread.start_new_thread(run, ())\n",
    "\n",
    "\n",
    "if __name__ == \"__main__\":\n",
    "    websocket.enableTrace(True) # Trace connection\n",
    "    ws = websocket.WebSocketApp(\"ws://10.216.85.113:8888/ws\",\n",
    "                              on_message = on_message,\n",
    "                              on_error = on_error,\n",
    "                              on_close = on_close)\n",
    "    ws.on_open = on_open\n",
    "    ws.run_forever()"
   ]
  }
 ],
 "metadata": {
  "anaconda-cloud": {},
  "kernelspec": {
   "display_name": "Python [default]",
   "language": "python",
   "name": "python2"
  }
 },
 "nbformat": 4,
 "nbformat_minor": 1
}
